{
 "cells": [
  {
   "cell_type": "markdown",
   "id": "d590d687",
   "metadata": {},
   "source": [
    "## Part-1"
   ]
  },
  {
   "cell_type": "code",
   "execution_count": 1,
   "id": "fad7fcd7",
   "metadata": {},
   "outputs": [],
   "source": [
    "#Import libraries\n",
    "import numpy as np\n",
    "import pandas as pd\n",
    "import matplotlib.pyplot as plt\n",
    "%matplotlib inline \n",
    "import warnings \n",
    "warnings.filterwarnings(\"ignore\")\n",
    "from sklearn.model_selection import train_test_split\n",
    "from sklearn.neighbors import KNeighborsClassifier\n",
    "from sklearn.naive_bayes import GaussianNB,BernoulliNB,MultinomialNB\n",
    "from sklearn.metrics import confusion_matrix\n",
    "from sklearn.metrics import accuracy_score\n"
   ]
  },
  {
   "cell_type": "code",
   "execution_count": 2,
   "id": "a655779e",
   "metadata": {},
   "outputs": [
    {
     "data": {
      "text/html": [
       "<div>\n",
       "<style scoped>\n",
       "    .dataframe tbody tr th:only-of-type {\n",
       "        vertical-align: middle;\n",
       "    }\n",
       "\n",
       "    .dataframe tbody tr th {\n",
       "        vertical-align: top;\n",
       "    }\n",
       "\n",
       "    .dataframe thead th {\n",
       "        text-align: right;\n",
       "    }\n",
       "</style>\n",
       "<table border=\"1\" class=\"dataframe\">\n",
       "  <thead>\n",
       "    <tr style=\"text-align: right;\">\n",
       "      <th></th>\n",
       "      <th>Pregnancies</th>\n",
       "      <th>Glucose</th>\n",
       "      <th>BloodPressure</th>\n",
       "      <th>SkinThickness</th>\n",
       "      <th>Insulin</th>\n",
       "      <th>BMI</th>\n",
       "      <th>DiabetesPedigreeFunction</th>\n",
       "      <th>Age</th>\n",
       "      <th>Outcome</th>\n",
       "    </tr>\n",
       "  </thead>\n",
       "  <tbody>\n",
       "    <tr>\n",
       "      <th>0</th>\n",
       "      <td>6</td>\n",
       "      <td>148</td>\n",
       "      <td>72</td>\n",
       "      <td>35</td>\n",
       "      <td>0</td>\n",
       "      <td>33.6</td>\n",
       "      <td>0.627</td>\n",
       "      <td>50</td>\n",
       "      <td>1</td>\n",
       "    </tr>\n",
       "    <tr>\n",
       "      <th>1</th>\n",
       "      <td>1</td>\n",
       "      <td>85</td>\n",
       "      <td>66</td>\n",
       "      <td>29</td>\n",
       "      <td>0</td>\n",
       "      <td>26.6</td>\n",
       "      <td>0.351</td>\n",
       "      <td>31</td>\n",
       "      <td>0</td>\n",
       "    </tr>\n",
       "    <tr>\n",
       "      <th>2</th>\n",
       "      <td>8</td>\n",
       "      <td>183</td>\n",
       "      <td>64</td>\n",
       "      <td>0</td>\n",
       "      <td>0</td>\n",
       "      <td>23.3</td>\n",
       "      <td>0.672</td>\n",
       "      <td>32</td>\n",
       "      <td>1</td>\n",
       "    </tr>\n",
       "    <tr>\n",
       "      <th>3</th>\n",
       "      <td>1</td>\n",
       "      <td>89</td>\n",
       "      <td>66</td>\n",
       "      <td>23</td>\n",
       "      <td>94</td>\n",
       "      <td>28.1</td>\n",
       "      <td>0.167</td>\n",
       "      <td>21</td>\n",
       "      <td>0</td>\n",
       "    </tr>\n",
       "    <tr>\n",
       "      <th>4</th>\n",
       "      <td>0</td>\n",
       "      <td>137</td>\n",
       "      <td>40</td>\n",
       "      <td>35</td>\n",
       "      <td>168</td>\n",
       "      <td>43.1</td>\n",
       "      <td>2.288</td>\n",
       "      <td>33</td>\n",
       "      <td>1</td>\n",
       "    </tr>\n",
       "    <tr>\n",
       "      <th>...</th>\n",
       "      <td>...</td>\n",
       "      <td>...</td>\n",
       "      <td>...</td>\n",
       "      <td>...</td>\n",
       "      <td>...</td>\n",
       "      <td>...</td>\n",
       "      <td>...</td>\n",
       "      <td>...</td>\n",
       "      <td>...</td>\n",
       "    </tr>\n",
       "    <tr>\n",
       "      <th>763</th>\n",
       "      <td>10</td>\n",
       "      <td>101</td>\n",
       "      <td>76</td>\n",
       "      <td>48</td>\n",
       "      <td>180</td>\n",
       "      <td>32.9</td>\n",
       "      <td>0.171</td>\n",
       "      <td>63</td>\n",
       "      <td>0</td>\n",
       "    </tr>\n",
       "    <tr>\n",
       "      <th>764</th>\n",
       "      <td>2</td>\n",
       "      <td>122</td>\n",
       "      <td>70</td>\n",
       "      <td>27</td>\n",
       "      <td>0</td>\n",
       "      <td>36.8</td>\n",
       "      <td>0.340</td>\n",
       "      <td>27</td>\n",
       "      <td>0</td>\n",
       "    </tr>\n",
       "    <tr>\n",
       "      <th>765</th>\n",
       "      <td>5</td>\n",
       "      <td>121</td>\n",
       "      <td>72</td>\n",
       "      <td>23</td>\n",
       "      <td>112</td>\n",
       "      <td>26.2</td>\n",
       "      <td>0.245</td>\n",
       "      <td>30</td>\n",
       "      <td>0</td>\n",
       "    </tr>\n",
       "    <tr>\n",
       "      <th>766</th>\n",
       "      <td>1</td>\n",
       "      <td>126</td>\n",
       "      <td>60</td>\n",
       "      <td>0</td>\n",
       "      <td>0</td>\n",
       "      <td>30.1</td>\n",
       "      <td>0.349</td>\n",
       "      <td>47</td>\n",
       "      <td>1</td>\n",
       "    </tr>\n",
       "    <tr>\n",
       "      <th>767</th>\n",
       "      <td>1</td>\n",
       "      <td>93</td>\n",
       "      <td>70</td>\n",
       "      <td>31</td>\n",
       "      <td>0</td>\n",
       "      <td>30.4</td>\n",
       "      <td>0.315</td>\n",
       "      <td>23</td>\n",
       "      <td>0</td>\n",
       "    </tr>\n",
       "  </tbody>\n",
       "</table>\n",
       "<p>768 rows × 9 columns</p>\n",
       "</div>"
      ],
      "text/plain": [
       "     Pregnancies  Glucose  BloodPressure  SkinThickness  Insulin   BMI  \\\n",
       "0              6      148             72             35        0  33.6   \n",
       "1              1       85             66             29        0  26.6   \n",
       "2              8      183             64              0        0  23.3   \n",
       "3              1       89             66             23       94  28.1   \n",
       "4              0      137             40             35      168  43.1   \n",
       "..           ...      ...            ...            ...      ...   ...   \n",
       "763           10      101             76             48      180  32.9   \n",
       "764            2      122             70             27        0  36.8   \n",
       "765            5      121             72             23      112  26.2   \n",
       "766            1      126             60              0        0  30.1   \n",
       "767            1       93             70             31        0  30.4   \n",
       "\n",
       "     DiabetesPedigreeFunction  Age  Outcome  \n",
       "0                       0.627   50        1  \n",
       "1                       0.351   31        0  \n",
       "2                       0.672   32        1  \n",
       "3                       0.167   21        0  \n",
       "4                       2.288   33        1  \n",
       "..                        ...  ...      ...  \n",
       "763                     0.171   63        0  \n",
       "764                     0.340   27        0  \n",
       "765                     0.245   30        0  \n",
       "766                     0.349   47        1  \n",
       "767                     0.315   23        0  \n",
       "\n",
       "[768 rows x 9 columns]"
      ]
     },
     "execution_count": 2,
     "metadata": {},
     "output_type": "execute_result"
    }
   ],
   "source": [
    "#Importing the data\n",
    "import pandas as pd\n",
    "df=pd.read_csv(r\"/Users/priyathambikumalla/Desktop/diabetes.csv\")\n",
    "df"
   ]
  },
  {
   "cell_type": "code",
   "execution_count": 3,
   "id": "60bd9f61",
   "metadata": {},
   "outputs": [
    {
     "data": {
      "text/plain": [
       "Pregnancies                 0\n",
       "Glucose                     0\n",
       "BloodPressure               0\n",
       "SkinThickness               0\n",
       "Insulin                     0\n",
       "BMI                         0\n",
       "DiabetesPedigreeFunction    0\n",
       "Age                         0\n",
       "Outcome                     0\n",
       "dtype: int64"
      ]
     },
     "execution_count": 3,
     "metadata": {},
     "output_type": "execute_result"
    }
   ],
   "source": [
    "#Checking missing values or Null Values\n",
    "df.isnull().sum()"
   ]
  },
  {
   "cell_type": "code",
   "execution_count": 4,
   "id": "1c7f901c",
   "metadata": {},
   "outputs": [
    {
     "name": "stdout",
     "output_type": "stream",
     "text": [
      "<class 'pandas.core.frame.DataFrame'>\n",
      "RangeIndex: 768 entries, 0 to 767\n",
      "Data columns (total 9 columns):\n",
      " #   Column                    Non-Null Count  Dtype  \n",
      "---  ------                    --------------  -----  \n",
      " 0   Pregnancies               768 non-null    int64  \n",
      " 1   Glucose                   768 non-null    int64  \n",
      " 2   BloodPressure             768 non-null    int64  \n",
      " 3   SkinThickness             768 non-null    int64  \n",
      " 4   Insulin                   768 non-null    int64  \n",
      " 5   BMI                       768 non-null    float64\n",
      " 6   DiabetesPedigreeFunction  768 non-null    float64\n",
      " 7   Age                       768 non-null    int64  \n",
      " 8   Outcome                   768 non-null    int64  \n",
      "dtypes: float64(2), int64(7)\n",
      "memory usage: 54.1 KB\n"
     ]
    }
   ],
   "source": [
    "df.info()"
   ]
  },
  {
   "cell_type": "code",
   "execution_count": 5,
   "id": "2a72d3f9",
   "metadata": {},
   "outputs": [],
   "source": [
    "#Determaining Input and Output Columns\n",
    "X=df.drop(columns=['Outcome'])\n",
    "y=df[\"Outcome\"]"
   ]
  },
  {
   "cell_type": "code",
   "execution_count": 6,
   "id": "86a1af79",
   "metadata": {},
   "outputs": [],
   "source": [
    "# Scaling data using standard scaler\n",
    "class StandardScaler:\n",
    "    def __init__(self):\n",
    "        self.mean_ = None\n",
    "        self.std_ = None\n",
    "\n",
    "    def fit(self, X):\n",
    "        self.mean_ = np.mean(X, axis=0)\n",
    "        self.std_ = np.std(X, axis=0)\n",
    "\n",
    "    def transform(self, X):\n",
    "        return (X - self.mean_) / self.std_\n",
    "\n",
    "scaler = StandardScaler()\n",
    "scaler.fit(X)\n",
    "X_scaled = scaler.transform(X)"
   ]
  },
  {
   "cell_type": "code",
   "execution_count": 7,
   "id": "9247401b",
   "metadata": {},
   "outputs": [
    {
     "name": "stdout",
     "output_type": "stream",
     "text": [
      "     Pregnancies   Glucose  BloodPressure  SkinThickness   Insulin       BMI  \\\n",
      "0       0.639947  0.848324       0.149641       0.907270 -0.692891  0.204013   \n",
      "1      -0.844885 -1.123396      -0.160546       0.530902 -0.692891 -0.684422   \n",
      "2       1.233880  1.943724      -0.263941      -1.288212 -0.692891 -1.103255   \n",
      "3      -0.844885 -0.998208      -0.160546       0.154533  0.123302 -0.494043   \n",
      "4      -1.141852  0.504055      -1.504687       0.907270  0.765836  1.409746   \n",
      "..           ...       ...            ...            ...       ...       ...   \n",
      "763     1.827813 -0.622642       0.356432       1.722735  0.870031  0.115169   \n",
      "764    -0.547919  0.034598       0.046245       0.405445 -0.692891  0.610154   \n",
      "765     0.342981  0.003301       0.149641       0.154533  0.279594 -0.735190   \n",
      "766    -0.844885  0.159787      -0.470732      -1.288212 -0.692891 -0.240205   \n",
      "767    -0.844885 -0.873019       0.046245       0.656358 -0.692891 -0.202129   \n",
      "\n",
      "     DiabetesPedigreeFunction       Age  \n",
      "0                    0.468492  1.425995  \n",
      "1                   -0.365061 -0.190672  \n",
      "2                    0.604397 -0.105584  \n",
      "3                   -0.920763 -1.041549  \n",
      "4                    5.484909 -0.020496  \n",
      "..                        ...       ...  \n",
      "763                 -0.908682  2.532136  \n",
      "764                 -0.398282 -0.531023  \n",
      "765                 -0.685193 -0.275760  \n",
      "766                 -0.371101  1.170732  \n",
      "767                 -0.473785 -0.871374  \n",
      "\n",
      "[768 rows x 8 columns]\n"
     ]
    }
   ],
   "source": [
    "print(X_scaled)"
   ]
  },
  {
   "cell_type": "code",
   "execution_count": 12,
   "id": "e91297b3",
   "metadata": {},
   "outputs": [],
   "source": [
    "#Split the dataset into training and testing\n",
    "from sklearn.model_selection import train_test_split\n",
    "\n",
    "X_train, X_test, y_train, y_test = train_test_split(X_scaled, y, test_size=0.2, random_state=150)\n"
   ]
  },
  {
   "cell_type": "code",
   "execution_count": 13,
   "id": "db2a2e07",
   "metadata": {},
   "outputs": [
    {
     "name": "stdout",
     "output_type": "stream",
     "text": [
      "for 1 neighbours the accuracy is 0.6753246753246753\n",
      "for 2 neighbours the accuracy is 0.7272727272727273\n",
      "for 3 neighbours the accuracy is 0.7012987012987013\n",
      "for 4 neighbours the accuracy is 0.7467532467532467\n",
      "for 5 neighbours the accuracy is 0.7142857142857143\n",
      "for 6 neighbours the accuracy is 0.7207792207792207\n",
      "for 7 neighbours the accuracy is 0.7077922077922078\n",
      "for 8 neighbours the accuracy is 0.7272727272727273\n",
      "for 9 neighbours the accuracy is 0.7467532467532467\n",
      "for 10 neighbours the accuracy is 0.7662337662337663\n",
      "for 11 neighbours the accuracy is 0.7272727272727273\n",
      "for 12 neighbours the accuracy is 0.7467532467532467\n",
      "for 13 neighbours the accuracy is 0.7272727272727273\n",
      "for 14 neighbours the accuracy is 0.7272727272727273\n",
      "for 15 neighbours the accuracy is 0.7207792207792207\n",
      "for 16 neighbours the accuracy is 0.7077922077922078\n",
      "for 17 neighbours the accuracy is 0.7207792207792207\n",
      "for 18 neighbours the accuracy is 0.7467532467532467\n",
      "for 19 neighbours the accuracy is 0.7272727272727273\n",
      "for 20 neighbours the accuracy is 0.7337662337662337\n",
      "for 21 neighbours the accuracy is 0.7207792207792207\n",
      "for 22 neighbours the accuracy is 0.7077922077922078\n",
      "for 23 neighbours the accuracy is 0.7142857142857143\n",
      "for 24 neighbours the accuracy is 0.7142857142857143\n",
      "for 25 neighbours the accuracy is 0.7207792207792207\n",
      "for 26 neighbours the accuracy is 0.7207792207792207\n",
      "for 27 neighbours the accuracy is 0.7142857142857143\n",
      "for 28 neighbours the accuracy is 0.7337662337662337\n",
      "for 29 neighbours the accuracy is 0.7272727272727273\n",
      "for 30 neighbours the accuracy is 0.7272727272727273\n",
      "for 31 neighbours the accuracy is 0.7272727272727273\n",
      "for 32 neighbours the accuracy is 0.7337662337662337\n",
      "for 33 neighbours the accuracy is 0.7337662337662337\n",
      "for 34 neighbours the accuracy is 0.7467532467532467\n",
      "for 35 neighbours the accuracy is 0.7402597402597403\n",
      "for 36 neighbours the accuracy is 0.7467532467532467\n",
      "for 37 neighbours the accuracy is 0.7402597402597403\n",
      "for 38 neighbours the accuracy is 0.7467532467532467\n",
      "for 39 neighbours the accuracy is 0.7402597402597403\n"
     ]
    },
    {
     "data": {
      "text/plain": [
       "Text(0, 0.5, 'Accuracy')"
      ]
     },
     "execution_count": 13,
     "metadata": {},
     "output_type": "execute_result"
    },
    {
     "data": {
      "image/png": "[encoded data removed]",
      "text/plain": [
       "<Figure size 720x432 with 1 Axes>"
      ]
     },
     "metadata": {
      "needs_background": "light"
     },
     "output_type": "display_data"
    }
   ],
   "source": [
    "from sklearn import metrics\n",
    "acc=[]\n",
    "for i in range(1,40):\n",
    "    knn=KNeighborsClassifier(n_neighbors = i)\n",
    "    knn.fit(X_train,y_train)\n",
    "    yhat=knn.predict(X_test)\n",
    "    acc.append(knn.score(X_test,y_test))\n",
    "    print(\"for {} neighbours the accuracy is {}\".format(i,acc[i-1]))\n",
    "    \n",
    "plt.figure(figsize=(10,6))\n",
    "plt.plot(range(1,40),acc,color='red',linestyle='dashed', marker='o', markerfacecolor='black', markersize=10)\n",
    "plt.title('KNN Accuracy Value',fontsize=20)\n",
    "plt.xlabel('K',fontsize=20)\n",
    "plt.ylabel('Accuracy',fontsize=20)"
   ]
  },
  {
   "cell_type": "markdown",
   "id": "e6bb2e3f",
   "metadata": {},
   "source": [
    "The Best K Value is 10"
   ]
  },
  {
   "cell_type": "code",
   "execution_count": 25,
   "id": "30a6a2fa",
   "metadata": {},
   "outputs": [],
   "source": [
    "\n",
    "best_model=KNeighborsClassifier(n_neighbors=10)\n",
    "best_model.fit(X_train,y_train)\n",
    "pred_val=best_model.predict(X_test)"
   ]
  },
  {
   "cell_type": "code",
   "execution_count": 29,
   "id": "092d85b4",
   "metadata": {},
   "outputs": [
    {
     "name": "stdout",
     "output_type": "stream",
     "text": [
      "five cross validation scores [0.74675325 0.72077922 0.75974026 0.78431373 0.7124183 ]\n",
      " Standard deviation of five cross validation scores 0.02613018682870626\n",
      "Mean of cross validation score 0.7448009506833035\n"
     ]
    }
   ],
   "source": [
    "#Running 5 Fold Cross Validations\n",
    "from sklearn.model_selection import cross_val_score\n",
    "cv_score=cross_val_score(best_model,X,y,cv=5)\n",
    "print(\"five cross validation scores\",cv_score)\n",
    "print(\" Standard deviation of five cross validation scores\",cv_score.std())\n",
    "print(\"Mean of cross validation score\",cv_score.mean())"
   ]
  },
  {
   "cell_type": "code",
   "execution_count": 34,
   "id": "dc90bf48",
   "metadata": {},
   "outputs": [
    {
     "name": "stdout",
     "output_type": "stream",
     "text": [
      "[[87 15]\n",
      " [21 31]]\n",
      "0.7662337662337663\n"
     ]
    }
   ],
   "source": [
    "con_mat=confusion_matrix(y_test,pred_val)\n",
    "print(con_mat)\n",
    "acc_score=accuracy_score(y_test,pred_val)\n",
    "print(acc_score)"
   ]
  },
  {
   "cell_type": "code",
   "execution_count": 35,
   "id": "b6a0ca61",
   "metadata": {},
   "outputs": [
    {
     "name": "stdout",
     "output_type": "stream",
     "text": [
      "Mean of the model : 0.7448009506833035\n",
      "Standard deviation of the model : 0.02613018682870626\n"
     ]
    }
   ],
   "source": [
    "print(\"Mean of the model :\",cv_score.mean())\n",
    "print(\"Standard deviation of the model :\",cv_score.std())"
   ]
  },
  {
   "cell_type": "markdown",
   "id": "18ac1a5b",
   "metadata": {},
   "source": [
    "Accuracy of the Model:\n",
    "we got an accuracy of 76% at n_neighbours=10 As we can see the model performed better with 10 neighbors and mean of the five cross-validation scores is 74% which means the model is performing better and by looking into the confusion matrix we have correctly predicted 118 classes out of 154 "
   ]
  },
  {
   "cell_type": "code",
   "execution_count": null,
   "id": "daf73c2c",
   "metadata": {},
   "outputs": [],
   "source": []
  },
  {
   "cell_type": "markdown",
   "id": "45d8906b",
   "metadata": {},
   "source": [
    "## Part-2"
   ]
  },
  {
   "cell_type": "code",
   "execution_count": null,
   "id": "6b07f69a",
   "metadata": {},
   "outputs": [],
   "source": []
  },
  {
   "cell_type": "code",
   "execution_count": 42,
   "id": "676b8243",
   "metadata": {},
   "outputs": [],
   "source": [
    "#Splitting Dataset\n",
    "from fast_ml.model_development import train_valid_test_split\n",
    "\n",
    "X_train, y_train, X_valid, y_valid, X_test, y_test = train_valid_test_split(df, target=\"Outcome\", \n",
    "                                                                            train_size=0.8, valid_size=0.1, test_size=0.1)"
   ]
  },
  {
   "cell_type": "code",
   "execution_count": 43,
   "id": "a0a26d90",
   "metadata": {},
   "outputs": [],
   "source": [
    "#Classifiers :GaussianNB, MultinomialNB, BernouliNB\n",
    "classifiers={\n",
    "    \"GaussianNB\":GaussianNB(),\n",
    "    \"MultinomialNB\":MultinomialNB(),\n",
    "    \"BernoulliNB\":BernoulliNB()\n",
    "}"
   ]
  },
  {
   "cell_type": "code",
   "execution_count": 44,
   "id": "45011648",
   "metadata": {},
   "outputs": [
    {
     "name": "stdout",
     "output_type": "stream",
     "text": [
      "GaussianNB:\n",
      "cross_validation scores on validation data : [0.6875     0.6875     0.86666667 0.8        0.8       ]\n",
      "mean of accuracy : 0.7683333333333333\n",
      "Standard deviation of accuracy : 0.07034636530135095\n",
      "Accuracy on test Data : 0.7402597402597403\n",
      "===============================================================================\n",
      "MultinomialNB:\n",
      "cross_validation scores on validation data : [0.6875     0.4375     0.53333333 0.6        0.46666667]\n",
      "mean of accuracy : 0.545\n",
      "Standard deviation of accuracy : 0.0907300636197531\n",
      "Accuracy on test Data : 0.6233766233766234\n",
      "===============================================================================\n",
      "BernoulliNB:\n",
      "cross_validation scores on validation data : [0.75       0.625      0.73333333 0.73333333 0.66666667]\n",
      "mean of accuracy : 0.7016666666666667\n",
      "Standard deviation of accuracy : 0.047842333648024406\n",
      "Accuracy on test Data : 0.7012987012987013\n",
      "===============================================================================\n"
     ]
    }
   ],
   "source": [
    "for name,model_nb in classifiers.items():\n",
    "    model_nb.fit(X_train,y_train)\n",
    "    pred_nb=model_nb.predict(X_test)\n",
    "    cv_scores_nb=cross_val_score(model_nb,X_valid,y_valid,cv=5)\n",
    "    print(f\"{name}:\")\n",
    "    print(\"cross_validation scores on validation data :\",cv_scores_nb)\n",
    "    print(\"mean of accuracy :\",cv_scores_nb.mean())\n",
    "    print(\"Standard deviation of accuracy :\",cv_scores_nb.std())\n",
    "    print(\"Accuracy on test Data :\",accuracy_score(y_test,pred_nb))\n",
    "    print(\"===============================================================================\")"
   ]
  },
  {
   "cell_type": "markdown",
   "id": "43eec64e",
   "metadata": {},
   "source": [
    "GaussianNB:\n",
    "Gaussian Naive Bayes (GNB) is a classification technique based on the probabilistic approach and Gaussian distribution. Gaussian Naive Bayes assumes that each parameter has an independent capacity of predicting the output variable. So, the dataset has continuous values and each feature is directly correlated to the dependent variable. The 5-fold-cross-validation mean is 76% and the accuracy on test data is 74% it clearly shows that the model is performing really well.\n",
    "\n",
    "\n",
    "MultinomialNB:\n",
    "Multinomial classification is the problem of classifying instances into one of three or more classes. So, the dataset has continuous values and each feature is directly correlated to the dependent variable. The 5-fold-cross-validation mean is 54% and the accuracy on test data is 62% it clearly shows that the model is not performing well for the data. And this MultinomialNB is the least performing model and has a high standard deviation among these 3 models.\n",
    "\n",
    "\n",
    "BernoulliNB:\n",
    "BernoulliNB is designed for binary data(0,1). But our Dataset has continuous values by which our BernoulliNB will not perform well. The 5-fold-cross-validation mean is 70% and the accuracy on test data is 70% \n",
    "\n",
    "\n",
    "Conclusion:\n",
    "Based on the results of the above 3 models we can clearly say that the GaussianNB model is performing really well on both validation and test_data."
   ]
  },
  {
   "cell_type": "code",
   "execution_count": null,
   "id": "76a5ff54",
   "metadata": {},
   "outputs": [],
   "source": []
  },
  {
   "cell_type": "markdown",
   "id": "9c927828",
   "metadata": {},
   "source": [
    "## Part-3"
   ]
  },
  {
   "cell_type": "code",
   "execution_count": 62,
   "id": "33722b1f",
   "metadata": {},
   "outputs": [],
   "source": [
    "# To Create Leave-One-Out object\n",
    "from sklearn.model_selection import LeaveOneOut\n",
    "loo = LeaveOneOut()\n",
    "\n",
    "# Gaussian Naive Bayes\n",
    "gnb = GaussianNB()\n",
    "gnb_scores = cross_val_score(gnb, X, y, cv=loo)\n",
    "gnb.fit(X_train, y_train)\n",
    "gnb_mean_score = gnb_scores.mean()\n",
    "gnb_std_score = gnb_scores.std()\n",
    "gnb_pred = gnb.predict(X_test)\n",
    "gnb_accuracy = accuracy_score(y_test, gnb_pred)\n",
    "\n",
    "#Knn\n",
    "knn = KNeighborsClassifier(n_neighbors=5)\n",
    "scores = cross_val_score(knn, X_scaled, y, cv=loo)\n",
    "knn.fit(X_train, y_train)\n",
    "knn_mean = scores.mean()\n",
    "knn_std = scores.std()\n",
    "knn_pred = knn.predict(X_test)\n",
    "knn_accuracy = accuracy_score(y_test, knn_pred)"
   ]
  },
  {
   "cell_type": "code",
   "execution_count": 50,
   "id": "2242ac07",
   "metadata": {},
   "outputs": [
    {
     "name": "stdout",
     "output_type": "stream",
     "text": [
      "Gaussian Naive Bayes\n",
      "Mean score:  0.75390625\n",
      "Standard deviation:  0.4307338113161509\n",
      "Accuracy: 0.7402597402597403\n",
      "\n",
      "KNN\n",
      "Mean score:  0.7421875\n",
      "Standard deviation:  0.43743023997404434\n",
      "Accuracy: 0.7142857142857143\n"
     ]
    }
   ],
   "source": [
    "# To Print mean and standard deviation scores\n",
    "print(\"Gaussian Naive Bayes\")\n",
    "print(\"Mean score: \", gnb_mean_score)\n",
    "print(\"Standard deviation: \", gnb_std_score)\n",
    "print(\"Accuracy:\", gnb_accuracy)\n",
    "print(\"\")\n",
    "\n",
    "print(\"KNN\")\n",
    "print(\"Mean score: \", knn_mean)\n",
    "print(\"Standard deviation: \", knn_std)\n",
    "print(\"Accuracy:\", knn_accuracy)"
   ]
  },
  {
   "cell_type": "markdown",
   "id": "8cf4e366",
   "metadata": {},
   "source": [
    "Yes, I noticed a change in accuracy with the LeaveOneOut cross validation method. This method works well when we have a large amount of data, but in our case, we can see a decrease in accuracy and an increase in standard deviation. This means that the model is not capturing the required information on the training set. As a result, in our scenario, this cross validation strategy is not the best option."
   ]
  },
  {
   "cell_type": "code",
   "execution_count": null,
   "id": "2b5a63b0",
   "metadata": {},
   "outputs": [],
   "source": []
  },
  {
   "cell_type": "markdown",
   "id": "39ca569a",
   "metadata": {},
   "source": [
    "## Part-4"
   ]
  },
  {
   "cell_type": "code",
   "execution_count": null,
   "id": "3044ba05",
   "metadata": {},
   "outputs": [],
   "source": []
  },
  {
   "cell_type": "code",
   "execution_count": 58,
   "id": "936f0900",
   "metadata": {},
   "outputs": [
    {
     "name": "stdout",
     "output_type": "stream",
     "text": [
      "KNN accuracy is:  0.7142857142857143\n",
      "Naive Bayes accuracy is:  0.7402597402597403\n"
     ]
    }
   ],
   "source": [
    "from sklearn.metrics import accuracy_score\n",
    "\n",
    "#KNN model\n",
    "knn = KNeighborsClassifier(n_neighbors=5)\n",
    "knn.fit(X_train, y_train)\n",
    "knn_pred = knn.predict(X_test)\n",
    "knn_accuracy = accuracy_score(y_test, knn_pred)\n",
    "\n",
    "# Naive Bayes model\n",
    "nb = GaussianNB()\n",
    "nb.fit(X_train, y_train)\n",
    "nb_pred = nb.predict(X_test)\n",
    "nb_accuracy = accuracy_score(y_test, nb_pred)\n",
    "\n",
    "# To Print the accuracy scores\n",
    "print(\"KNN accuracy is: \", knn_accuracy)\n",
    "print(\"Naive Bayes accuracy is: \", nb_accuracy)"
   ]
  },
  {
   "cell_type": "code",
   "execution_count": 60,
   "id": "a2fdafae",
   "metadata": {},
   "outputs": [
    {
     "name": "stdout",
     "output_type": "stream",
     "text": [
      "Accuracy on entire dataset is: 0.740\n"
     ]
    }
   ],
   "source": [
    "# To check the best model for entire dataset\n",
    "nb = GaussianNB()\n",
    "nb.fit(X_train, y_train)\n",
    "nb_pred = nb.predict(X_test)\n",
    "nb_accuracy = accuracy_score(y_test, nb_pred)\n",
    "\n",
    "print(\"Accuracy on entire dataset is: {:.3f}\".format(nb_accuracy))"
   ]
  },
  {
   "cell_type": "markdown",
   "id": "a6eb5eb5",
   "metadata": {},
   "source": [
    "According to the findings of the analysis, KNN and GausianNB perform well for this dataset. Nonetheless, there was a little change in the accuracy and standard deviation. \n",
    "The mean accuracy of the KNeighborsClassifier is 71%, whereas the GaussianNB model has a mean accuracy of 74% so We may conclude that GaussianNB model is best. \n",
    "The KNN model is highly computational, and the dataset must be clear of outliers before we can declare that the model is efficient. But Naive Bayes classifiers are based on strong assumptions about feature independence and data distribution."
   ]
  },
  {
   "cell_type": "code",
   "execution_count": 63,
   "id": "7b0cec0b",
   "metadata": {},
   "outputs": [
    {
     "name": "stdout",
     "output_type": "stream",
     "text": [
      "Accuracy on entire dataset: 0.740\n"
     ]
    }
   ],
   "source": [
    "# To check the best model for entire dataset\n",
    "nb = GaussianNB()\n",
    "nb.fit(X_train, y_train)\n",
    "nb_pred = nb.predict(X_test)\n",
    "nb_accuracy = accuracy_score(y_test, nb_pred)\n",
    "\n",
    "print(\"Accuracy on entire dataset: {:.3f}\".format(nb_accuracy))"
   ]
  }
 ],
 "metadata": {
  "kernelspec": {
   "display_name": "Python 3 (ipykernel)",
   "language": "python",
   "name": "python3"
  },
  "language_info": {
   "codemirror_mode": {
    "name": "ipython",
    "version": 3
   },
   "file_extension": ".py",
   "mimetype": "text/x-python",
   "name": "python",
   "nbconvert_exporter": "python",
   "pygments_lexer": "ipython3",
   "version": "3.9.7"
  }
 },
 "nbformat": 4,
 "nbformat_minor": 5
}
